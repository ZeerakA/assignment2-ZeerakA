{
 "cells": [
  {
   "cell_type": "markdown",
   "metadata": {},
   "source": [
    "# Assignment 2\n",
    "\n",
    "---\n",
    "\n",
    "Launch the Jupyter Notebook from the Terminal command line in [Cloud9](https://c9.io) with the following command\n",
    "\n",
    "````\n",
    ">jupyter notebook\n",
    "````\n",
    "\n",
    "This will result in a simalar output to the following\n",
    "\n",
    "![img](terminal_ss.png)\n",
    "\n",
    "Clicking the link will bring up a prompt, click \"Open\" and the Jupyter Notebook dashboard will open in a separate tab in your web browser.  Now you can open this file `assignment2.ipynb` in the Jupyter Notebook.\n",
    "\n",
    "---\n",
    "\n",
    "**Compete the following functions.**"
   ]
  },
  {
   "cell_type": "markdown",
   "metadata": {},
   "source": [
    "# Problem 1\n",
    "\n",
    "Complete the function such that its output is the square of $a$"
   ]
  },
  {
   "cell_type": "code",
   "execution_count": 1,
   "metadata": {
    "collapsed": true
   },
   "outputs": [],
   "source": [
    "def square(a):\n",
    "    ## enter code here\n",
    "    return result"
   ]
  },
  {
   "cell_type": "markdown",
   "metadata": {},
   "source": [
    "# Problem 2\n",
    "\n",
    "Given a mathematical function $x(t) = 5 t$, write a Python function that returns an estimate to the first derivative of $x$ at a given point $t$ using the following finite-difference formula\n",
    "\n",
    "$$\\frac{\\partial x}{\\partial t} \\approx \\frac{\\Delta x}{\\Delta t} = \\frac{x(t+\\Delta t) - x(t)}{\\Delta t}$$\n",
    "\n",
    "$\\Delta t$ is a user provided argument to the function."
   ]
  },
  {
   "cell_type": "code",
   "execution_count": 2,
   "metadata": {
    "collapsed": true
   },
   "outputs": [],
   "source": [
    "def finite_diff(t, delta_t):\n",
    "    ## enter code here\n",
    "    return result "
   ]
  },
  {
   "cell_type": "markdown",
   "metadata": {},
   "source": [
    "# Problem 3\n",
    "\n",
    "Write a function that takes in a productivity index of a well $J$ in (ft$^3$/psi-day), a bottomhole pressure $P_{wf}$ (psi), and an initial pressure $P_i$ (psi) and returns the initial production rate $q_w$ in BBLs/day.\n",
    "\n",
    "Give a default argument to $P_{wf}$ such that if it is omitted from the function argument list then $P_{wf} = 2000$ (psi). \n",
    "\n",
    "Recall that\n",
    "\n",
    "$$\n",
    "q_w = J (P_i - P_{wf})\n",
    "$$\n",
    "\n",
    "you may need a conversion factor."
   ]
  },
  {
   "cell_type": "code",
   "execution_count": 3,
   "metadata": {
    "collapsed": true
   },
   "outputs": [],
   "source": [
    "def well(J, Pi, Pwf):\n",
    "    ## enter code here\n",
    "    return result"
   ]
  },
  {
   "cell_type": "markdown",
   "metadata": {},
   "source": [
    "# DO NOT EDIT BELOW THIS LINE\n",
    "\n",
    "---"
   ]
  },
  {
   "cell_type": "code",
   "execution_count": 4,
   "metadata": {
    "collapsed": true
   },
   "outputs": [],
   "source": [
    "def test_square():\n",
    "    assert square(10) == 100\n",
    "    assert square(0) == 0\n",
    "    assert square(-2) == 4"
   ]
  },
  {
   "cell_type": "code",
   "execution_count": 5,
   "metadata": {
    "collapsed": true
   },
   "outputs": [],
   "source": [
    "def test_finite_diff():\n",
    "    assert abs(finite_diff(4, 0.1) - 5.0) < 1e-6\n",
    "    assert abs(finite_diff(4, 0.001) - 5.0) < 1e-6"
   ]
  },
  {
   "cell_type": "code",
   "execution_count": 6,
   "metadata": {
    "collapsed": true
   },
   "outputs": [],
   "source": [
    "def test_well():\n",
    "    assert abs(well(1.2, 5000, 3000) - 427.44) <= 1e-6 \n",
    "    assert abs(well(0.9, 5000) - 480.87) <= 1e-6 "
   ]
  }
 ],
 "metadata": {
  "kernelspec": {
   "display_name": "Python 3",
   "language": "python",
   "name": "python3"
  },
  "language_info": {
   "codemirror_mode": {
    "name": "ipython",
    "version": 3
   },
   "file_extension": ".py",
   "mimetype": "text/x-python",
   "name": "python",
   "nbconvert_exporter": "python",
   "pygments_lexer": "ipython3",
   "version": "3.6.2"
  }
 },
 "nbformat": 4,
 "nbformat_minor": 2
}
